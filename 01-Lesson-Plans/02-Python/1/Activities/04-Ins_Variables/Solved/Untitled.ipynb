{
 "cells": [
  {
   "cell_type": "code",
   "execution_count": 1,
   "id": "6cb38a24-649b-40e2-9adb-23a2a8e71863",
   "metadata": {},
   "outputs": [
    {
     "name": "stdout",
     "output_type": "stream",
     "text": [
      "hello world\n"
     ]
    }
   ],
   "source": [
    "print(\"hello world\")"
   ]
  },
  {
   "cell_type": "code",
   "execution_count": 2,
   "id": "917e6168-ef8f-4352-aef0-613dbd1684b7",
   "metadata": {},
   "outputs": [
    {
     "data": {
      "text/plain": [
       "10"
      ]
     },
     "execution_count": 2,
     "metadata": {},
     "output_type": "execute_result"
    }
   ],
   "source": [
    "5 + 5"
   ]
  },
  {
   "cell_type": "code",
   "execution_count": 3,
   "id": "e3881c0c-ccdc-4a93-91cb-ab7832a520ef",
   "metadata": {},
   "outputs": [
    {
     "name": "stdout",
     "output_type": "stream",
     "text": [
      "Nic\n"
     ]
    }
   ],
   "source": [
    "var = \"Nic\"\n",
    "print('Nic')"
   ]
  },
  {
   "cell_type": "code",
   "execution_count": 4,
   "id": "1af5a330-bc0c-48bf-bf4a-274420ca2a1f",
   "metadata": {},
   "outputs": [],
   "source": [
    "title = \"Frankfurter\"\n",
    "years = 23\n",
    "hourly_wage = 65.4\n",
    "expert_status = True\n",
    "   "
   ]
  },
  {
   "cell_type": "code",
   "execution_count": 5,
   "id": "21236e31-31b8-4b88-91de-1ec0a2d9e81f",
   "metadata": {},
   "outputs": [],
   "source": [
    "total_miles = 257\n",
    "gallons_gas = 7.2\n",
    "miles_per_gallon = total_miles / gallons_gas"
   ]
  },
  {
   "cell_type": "code",
   "execution_count": 6,
   "id": "8691f84e-1dba-4f13-8435-c20247c2e6c2",
   "metadata": {},
   "outputs": [
    {
     "name": "stdout",
     "output_type": "stream",
     "text": [
      "miles_per_gallon\n"
     ]
    }
   ],
   "source": [
    "print('miles_per_gallon')"
   ]
  },
  {
   "cell_type": "code",
   "execution_count": 7,
   "id": "ecc1f089-fbb7-4338-9946-deeb70ccc7b0",
   "metadata": {},
   "outputs": [
    {
     "name": "stdout",
     "output_type": "stream",
     "text": [
      "35.69444444444444\n"
     ]
    }
   ],
   "source": [
    "print(miles_per_gallon)"
   ]
  },
  {
   "cell_type": "code",
   "execution_count": 8,
   "id": "42ef34a8-00f8-4d4f-9552-ba7f94ddb8aa",
   "metadata": {},
   "outputs": [
    {
     "name": "stdout",
     "output_type": "stream",
     "text": [
      "My car gets 35.69444444444444 miles per gallon\n"
     ]
    }
   ],
   "source": [
    "print(f\"My car gets {miles_per_gallon} miles per gallon\")"
   ]
  },
  {
   "cell_type": "code",
   "execution_count": 9,
   "id": "f6370131-133f-470f-899f-23333e5a9ee6",
   "metadata": {},
   "outputs": [
    {
     "name": "stdout",
     "output_type": "stream",
     "text": [
      "0\n",
      "1\n",
      "2\n",
      "3\n",
      "4\n"
     ]
    }
   ],
   "source": [
    "for x in range(5):\n",
    "    print(x)"
   ]
  },
  {
   "cell_type": "code",
   "execution_count": 10,
   "id": "3ee3cc24-7d2f-41b0-bc43-ee37688365d2",
   "metadata": {},
   "outputs": [
    {
     "name": "stdout",
     "output_type": "stream",
     "text": [
      "2\n",
      "3\n",
      "4\n",
      "5\n",
      "6\n"
     ]
    }
   ],
   "source": [
    "for x in range(2, 7):\n",
    "    print(x)"
   ]
  },
  {
   "cell_type": "code",
   "execution_count": 11,
   "id": "099396c3-30ad-4aef-8b87-cdf405c0f52b",
   "metadata": {},
   "outputs": [
    {
     "name": "stdout",
     "output_type": "stream",
     "text": [
      "P\n",
      "e\n",
      "a\n",
      "c\n",
      "e\n"
     ]
    }
   ],
   "source": [
    "word = \"Peace\"\n",
    "for letters in word:\n",
    "    print(letters)"
   ]
  },
  {
   "cell_type": "code",
   "execution_count": 12,
   "id": "9a89ca92-310f-43fb-8298-acc684a38cfe",
   "metadata": {},
   "outputs": [],
   "source": [
    "cheer = \"python\"\n",
    "cheer_symbol = \"*\\O/*\"\n",
    "cheer_symbol_2 = \"\\( ^o^)/\\(^_^)\""
   ]
  },
  {
   "cell_type": "code",
   "execution_count": 14,
   "id": "b9fa7145-7437-4719-a9f6-b3517f250f86",
   "metadata": {},
   "outputs": [
    {
     "name": "stdout",
     "output_type": "stream",
     "text": [
      "give me a p!\n",
      "\\( ^o^)/\\(^_^)\\( ^o^)/\\(^_^)\\( ^o^)/\\(^_^)\n"
     ]
    },
    {
     "ename": "NameError",
     "evalue": "name 'cheer_symbol_2' is not defined",
     "output_type": "error",
     "traceback": [
      "\u001b[0;31m---------------------------------------------------------------------------\u001b[0m",
      "\u001b[0;31mNameError\u001b[0m                                 Traceback (most recent call last)",
      "\u001b[0;32m<ipython-input-14-d745fb971b25>\u001b[0m in \u001b[0;36m<module>\u001b[0;34m\u001b[0m\n\u001b[1;32m      2\u001b[0m     \u001b[0mprint\u001b[0m\u001b[0;34m(\u001b[0m\u001b[0;34m\"give me a \"\u001b[0m \u001b[0;34m+\u001b[0m \u001b[0mx\u001b[0m \u001b[0;34m+\u001b[0m \u001b[0;34m\"!\"\u001b[0m\u001b[0;34m)\u001b[0m\u001b[0;34m\u001b[0m\u001b[0;34m\u001b[0m\u001b[0m\n\u001b[1;32m      3\u001b[0m     \u001b[0mprint\u001b[0m\u001b[0;34m(\u001b[0m\u001b[0mcheer_symbol\u001b[0m \u001b[0;34m*\u001b[0m \u001b[0;36m3\u001b[0m\u001b[0;34m)\u001b[0m\u001b[0;34m\u001b[0m\u001b[0;34m\u001b[0m\u001b[0m\n\u001b[0;32m----> 4\u001b[0;31m     \u001b[0mprint\u001b[0m\u001b[0;34m(\u001b[0m\u001b[0mcheer_symbol_2\u001b[0m\u001b[0;34m)\u001b[0m\u001b[0;34m\u001b[0m\u001b[0;34m\u001b[0m\u001b[0m\n\u001b[0m",
      "\u001b[0;31mNameError\u001b[0m: name 'cheer_symbol_2' is not defined"
     ]
    }
   ],
   "source": [
    "for x in cheer:\n",
    "    print(\"give me a \" + x + \"!\")\n",
    "    print(cheer_symbol * 3)\n",
    "    print(cheer_symbol_2)"
   ]
  },
  {
   "cell_type": "code",
   "execution_count": null,
   "id": "bc6e8345-cfc9-4d91-a04a-cfb7e77524fd",
   "metadata": {},
   "outputs": [],
   "source": []
  }
 ],
 "metadata": {
  "kernelspec": {
   "display_name": "Python 3",
   "language": "python",
   "name": "python3"
  },
  "language_info": {
   "codemirror_mode": {
    "name": "ipython",
    "version": 3
   },
   "file_extension": ".py",
   "mimetype": "text/x-python",
   "name": "python",
   "nbconvert_exporter": "python",
   "pygments_lexer": "ipython3",
   "version": "3.7.10"
  }
 },
 "nbformat": 4,
 "nbformat_minor": 5
}
