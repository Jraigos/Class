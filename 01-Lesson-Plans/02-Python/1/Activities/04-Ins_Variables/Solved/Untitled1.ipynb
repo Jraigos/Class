{
 "cells": [
  {
   "cell_type": "code",
   "execution_count": 1,
   "id": "fdfd68bf-5335-4311-b234-9aade132f925",
   "metadata": {},
   "outputs": [
    {
     "name": "stdout",
     "output_type": "stream",
     "text": [
      "this is true\n"
     ]
    }
   ],
   "source": [
    "if 5 > 3:\n",
    "    print('this is true')\n"
   ]
  },
  {
   "cell_type": "code",
   "execution_count": 2,
   "id": "60f875b9-f1cb-43a6-bb48-1bbcfe73d5f8",
   "metadata": {},
   "outputs": [],
   "source": [
    "x = 5\n",
    "y = 10"
   ]
  },
  {
   "cell_type": "code",
   "execution_count": 3,
   "id": "07829e46-efd4-40c2-bf5f-99e6f2b33486",
   "metadata": {},
   "outputs": [
    {
     "name": "stdout",
     "output_type": "stream",
     "text": [
      "both x and y are greater than 0\n"
     ]
    }
   ],
   "source": [
    "if x > 0 and y > 0:\n",
    "    print('both x and y are greater than 0')\n",
    "    "
   ]
  },
  {
   "cell_type": "code",
   "execution_count": null,
   "id": "c34e2ca0-64d3-4509-afa8-6b45a4c4a6ab",
   "metadata": {},
   "outputs": [],
   "source": []
  }
 ],
 "metadata": {
  "kernelspec": {
   "display_name": "Python 3",
   "language": "python",
   "name": "python3"
  },
  "language_info": {
   "codemirror_mode": {
    "name": "ipython",
    "version": 3
   },
   "file_extension": ".py",
   "mimetype": "text/x-python",
   "name": "python",
   "nbconvert_exporter": "python",
   "pygments_lexer": "ipython3",
   "version": "3.7.10"
  }
 },
 "nbformat": 4,
 "nbformat_minor": 5
}
