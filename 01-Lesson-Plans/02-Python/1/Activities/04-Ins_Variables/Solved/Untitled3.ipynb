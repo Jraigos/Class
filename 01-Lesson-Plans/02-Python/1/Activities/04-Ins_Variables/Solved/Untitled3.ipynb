{
 "cells": [
  {
   "cell_type": "code",
   "execution_count": 2,
   "id": "355d54da-851e-4c6d-8311-2ac8fcc690eb",
   "metadata": {},
   "outputs": [
    {
     "name": "stdout",
     "output_type": "stream",
     "text": [
      "give me a p!\n",
      "p!\n",
      "give me a y!\n",
      "y!\n",
      "give me a t!\n",
      "t!\n",
      "give me a h!\n",
      "h!\n",
      "give me a o!\n",
      "o!\n",
      "give me a n!\n",
      "n!\n",
      "\n",
      "What does that spell?!\n",
      "python!\n",
      "Woohoo! Go python!\n",
      "*\\O/**\\O/**\\O/*\n",
      "\\( ^o^)/\\(^_^)\n"
     ]
    }
   ],
   "source": [
    "# Create a variable named cheer\n",
    "cheer = \"python\"\n",
    "\n",
    "# Below string can be used to add fun\n",
    "cheer_symbol = \"*\\O/*\"\n",
    "cheer_symbol_2 = \"\\ ^o^)/\\(^_^)\"\n",
    "\n",
    "# Loop through a string\n",
    "for x in cheer:\n",
    "    print(\"give me a \" + x + \"!\")\n",
    "    print(x + \"!\")\n",
    "    \n",
    "# Print excitement to screen\n",
    "print(\"\\nWhat does that spell?!\")\n",
    "print (cheer + \"!\\nWoohoo! Go \" + cheer + \"!\")\n",
    "print(cheer_symbol * 3)\n",
    "print(cheer_symbol_2)"
   ]
  },
  {
   "cell_type": "code",
   "execution_count": null,
   "id": "9153ca78-03a3-4346-9ba5-3c8963338293",
   "metadata": {},
   "outputs": [],
   "source": []
  }
 ],
 "metadata": {
  "kernelspec": {
   "display_name": "Python 3",
   "language": "python",
   "name": "python3"
  },
  "language_info": {
   "codemirror_mode": {
    "name": "ipython",
    "version": 3
   },
   "file_extension": ".py",
   "mimetype": "text/x-python",
   "name": "python",
   "nbconvert_exporter": "python",
   "pygments_lexer": "ipython3",
   "version": "3.7.10"
  }
 },
 "nbformat": 4,
 "nbformat_minor": 5
}
